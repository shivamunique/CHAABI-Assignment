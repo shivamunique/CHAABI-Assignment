{
 "cells": [
  {
   "cell_type": "code",
   "execution_count": 1,
   "id": "12928995",
   "metadata": {},
   "outputs": [
    {
     "name": "stdout",
     "output_type": "stream",
     "text": [
      "[5, 15, 21, 54, 416, 741, 6135]\n"
     ]
    }
   ],
   "source": [
    "#Question 1.\n",
    "\n",
    "def selection_sort(arr):\n",
    "    n = len(arr)\n",
    "    for i in range(n - 1):\n",
    "        min_index = i\n",
    "        for j in range(i + 1, n):\n",
    "            if arr[j] < arr[min_index]:\n",
    "                min_index = j\n",
    "        arr[i], arr[min_index] = arr[min_index], arr[i]\n",
    "    return arr\n",
    "\n",
    "# Example usage:\n",
    "input_list = [5, 416, 54, 21, 6135, 15, 741]\n",
    "sorted_list = selection_sort(input_list)\n",
    "print(sorted_list)\n"
   ]
  },
  {
   "cell_type": "code",
   "execution_count": 2,
   "id": "602cfbb1",
   "metadata": {},
   "outputs": [
    {
     "name": "stdout",
     "output_type": "stream",
     "text": [
      "{'abc.jpg': 'image', 'xyz.xls': 'spreadsheet', 'text.csv': 'unknown', '123': 'unknown'}\n"
     ]
    }
   ],
   "source": [
    "#Question 2.\n",
    "\n",
    "def get_file_types(extension_types, filenames):\n",
    "    type_mapping = {}\n",
    "    \n",
    "    # Parse extension and type values\n",
    "    ext_type_pairs = extension_types.split(';')\n",
    "    for pair in ext_type_pairs:\n",
    "        extension, file_type = pair.split(',')\n",
    "        type_mapping[extension] = file_type\n",
    "    \n",
    "    result = {}\n",
    "    \n",
    "    # Process filenames\n",
    "    for filename in filenames:\n",
    "        if '.' in filename:\n",
    "            # Extract extension from filename\n",
    "            extension = filename.split('.')[-1]\n",
    "            \n",
    "            # Look up the type based on the extension\n",
    "            if extension in type_mapping:\n",
    "                result[filename] = type_mapping[extension]\n",
    "            else:\n",
    "                result[filename] = 'unknown'\n",
    "        else:\n",
    "            result[filename] = 'unknown'\n",
    "    \n",
    "    return result\n",
    "\n",
    "# Example usage\n",
    "extension_types = \"xls,spreadsheet;xlsx,spreadsheet;jpg,image\"\n",
    "filenames = [\"abc.jpg\", \"xyz.xls\", \"text.csv\", \"123\"]\n",
    "file_types = get_file_types(extension_types, filenames)\n",
    "print(file_types)\n"
   ]
  },
  {
   "cell_type": "code",
   "execution_count": 3,
   "id": "4e167f6e",
   "metadata": {},
   "outputs": [
    {
     "name": "stdout",
     "output_type": "stream",
     "text": [
      "[{'fruit': 'apple', 'color': 'red'}, {'fruit': 'banana', 'color': 'yellow'}, {'fruit': 'blueberry', 'color': 'blue'}, {'fruit': 'orange', 'color': 'orange'}]\n",
      "[{'fruit': 'blueberry', 'color': 'blue'}, {'fruit': 'orange', 'color': 'orange'}, {'fruit': 'apple', 'color': 'red'}, {'fruit': 'banana', 'color': 'yellow'}]\n"
     ]
    }
   ],
   "source": [
    "#Question 3.\n",
    "\n",
    "def sort_list_of_dicts(lst, sort_key):\n",
    "    return sorted(lst, key=lambda x: x[sort_key])\n",
    "\n",
    "# Example usage\n",
    "fruits = [\n",
    "    {\"fruit\": \"orange\", \"color\": \"orange\"},\n",
    "    {\"fruit\": \"apple\", \"color\": \"red\"},\n",
    "    {\"fruit\": \"banana\", \"color\": \"yellow\"},\n",
    "    {\"fruit\": \"blueberry\", \"color\": \"blue\"}\n",
    "]\n",
    "\n",
    "# Sort by \"fruit\" key\n",
    "sorted_by_fruit = sort_list_of_dicts(fruits, \"fruit\")\n",
    "print(sorted_by_fruit)\n",
    "\n",
    "# Sort by \"color\" key\n",
    "sorted_by_color = sort_list_of_dicts(fruits, \"color\")\n",
    "print(sorted_by_color)\n"
   ]
  },
  {
   "cell_type": "code",
   "execution_count": 5,
   "id": "343e243a",
   "metadata": {},
   "outputs": [
    {
     "name": "stdout",
     "output_type": "stream",
     "text": [
      "{'value1': 'key1', 'value2': 'key2', 'value3': 'key3', 'value4': 'key4', 'value5': 'key5'}\n"
     ]
    }
   ],
   "source": [
    "#Question 4.\n",
    "\n",
    "def switch_dict_keys_values(dictionary):\n",
    "    return {v: k for k, v in dictionary.items()}\n",
    "\n",
    "\n",
    "original_dict = {\n",
    "    \"key1\": \"value1\",\n",
    "    \"key2\": \"value2\",\n",
    "    \"key3\": \"value3\",\n",
    "    \"key4\": \"value4\",\n",
    "    \"key5\": \"value5\"\n",
    "}\n",
    "\n",
    "switched_dict = switch_dict_keys_values(original_dict)\n",
    "print(switched_dict)\n"
   ]
  },
  {
   "cell_type": "code",
   "execution_count": 6,
   "id": "8542a6fe",
   "metadata": {},
   "outputs": [
    {
     "name": "stdout",
     "output_type": "stream",
     "text": [
      "['Attack On Titan', 'One Piece']\n",
      "['Sword Art Online', \"Stein's Gate\", 'Full Metal Alchemist', 'Bleach', 'Death Note', 'Dragon Ball Z', 'One Punch Man', 'Code Geass', 'The Devil is a Part Timer!']\n"
     ]
    }
   ],
   "source": [
    "#Question 5.\n",
    "\n",
    "def compare_lists(list1, list2):\n",
    "    common_elements = list(set(list1) & set(list2))\n",
    "    not_common_elements = list(set(list1) ^ set(list2))\n",
    "    return common_elements, not_common_elements\n",
    "\n",
    "Mainstream = [\"One Punch Man\", \"Attack On Titan\", \"One Piece\", \"Sword Art Online\", \"Bleach\", \"Dragon Ball Z\", \"One Piece\"]\n",
    "must_watch = [\"Full Metal Alchemist\", \"Code Geass\", \"Death Note\", \"Stein's Gate\", \"The Devil is a Part Timer!\", \"One Piece\", \"Attack On Titan\"]\n",
    "\n",
    "common, not_common = compare_lists(Mainstream, must_watch)\n",
    "print(common)\n",
    "print(not_common)\n"
   ]
  },
  {
   "cell_type": "code",
   "execution_count": 7,
   "id": "1e378338",
   "metadata": {},
   "outputs": [
    {
     "name": "stdout",
     "output_type": "stream",
     "text": [
      "[5, 11, 17, 23]\n"
     ]
    }
   ],
   "source": [
    "#Question 6.\n",
    "\n",
    "def get_sublist(list_input, start_index, end_index):\n",
    "    return list_input[start_index:end_index+1:2]\n",
    "\n",
    "list_input = [2, 3, 5, 7, 11, 13, 17, 19, 23, 29, 31, 37, 41]\n",
    "start_index = 2\n",
    "end_index = 9\n",
    "\n",
    "sublist = get_sublist(list_input, start_index, end_index)\n",
    "print(sublist)\n"
   ]
  },
  {
   "cell_type": "code",
   "execution_count": 8,
   "id": "7ad2d27c",
   "metadata": {},
   "outputs": [
    {
     "name": "stdout",
     "output_type": "stream",
     "text": [
      "120\n"
     ]
    }
   ],
   "source": [
    "#Question 7.\n",
    "\n",
    "factorial = lambda n: 1 if n == 0 else n * factorial(n - 1)\n",
    "\n",
    "# Example usage\n",
    "number = 5\n",
    "result = factorial(number)\n",
    "print(result)\n"
   ]
  },
  {
   "cell_type": "code",
   "execution_count": 26,
   "id": "43ad5a22",
   "metadata": {},
   "outputs": [
    {
     "name": "stdout",
     "output_type": "stream",
     "text": [
      "{'a': 1, 'b': 2, 'c': 3, 'd': 4, 'e': 5}\n",
      "range(0, 10)\n",
      "[]\n",
      "[1, 2, 3, 4, 5]\n",
      "[1, 2, 3, 4, 5]\n",
      "{0: 0, 1: 1, 2: 4, 3: 9, 4: 16, 5: 25, 6: 36, 7: 49, 8: 64, 9: 81}\n",
      "[[0, 0], [1, 1], [2, 4], [3, 9], [4, 16], [5, 25], [6, 36], [7, 49], [8, 64], [9, 81]]\n",
      "21\n",
      "<map object at 0x000001AFF6393730>\n",
      "<filter object at 0x000001AFF6393940>\n"
     ]
    }
   ],
   "source": [
    "#Question 8.\n",
    "\n",
    "A0 = dict(zip(('a', 'b', 'c', 'd', 'e'), (1, 2, 3, 4, 5)))\n",
    "print(A0)\n",
    "A1 = range(10)\n",
    "print(A1)\n",
    "A2 = sorted([i for i in A1 if i in A0])\n",
    "print(A2)\n",
    "A3 = sorted([A0[s] for s in A0])\n",
    "print(A3)\n",
    "A4 = [i for i in A1 if i in A3]\n",
    "print(A4)\n",
    "A5 = {i: i*i for i in A1}\n",
    "print(A5)\n",
    "A6 = [[i, i*i] for i in A1]\n",
    "print(A6)\n",
    "\n",
    "from functools import reduce\n",
    "A7 = reduce(lambda x,y: x+y, [10,23, -45, 33])\n",
    "print(A7)\n",
    "A8 = map(lambda x: x*2, [1,2,3,4])\n",
    "print(A8)\n",
    "A9 = filter(lambda x: len(x) >3, [\"I\", \"want\", \"to\", \"learn\", \"python\"])\n",
    "print(A9)"
   ]
  },
  {
   "cell_type": "code",
   "execution_count": 25,
   "id": "34820cb3",
   "metadata": {},
   "outputs": [
    {
     "name": "stdout",
     "output_type": "stream",
     "text": [
      "True\n"
     ]
    }
   ],
   "source": [
    "#Question 9.\n",
    "\n",
    "from datetime import datetime, timedelta\n",
    "\n",
    "def date_difference(from_date, to_date, difference):\n",
    "    format_str = '%y-%m-%d'\n",
    "\n",
    "    # Parse the date strings into datetime objects\n",
    "    from_datetime = datetime.strptime(from_date, format_str)\n",
    "    to_datetime = datetime.strptime(to_date, format_str)\n",
    "\n",
    "    # Calculate the difference between the dates\n",
    "    delta = to_datetime - from_datetime\n",
    "\n",
    "    # Check if the difference is less than the specified number of days\n",
    "    if delta < timedelta(days=difference):\n",
    "        return True\n",
    "    else:\n",
    "        return False\n",
    "    \n",
    "\n",
    "from_date = '21-01-01'\n",
    "to_date = '21-01-10'\n",
    "difference = 10\n",
    "\n",
    "result = date_difference(from_date, to_date, difference)\n",
    "print(result)\n",
    "\n"
   ]
  },
  {
   "cell_type": "code",
   "execution_count": 24,
   "id": "47878f24",
   "metadata": {},
   "outputs": [
    {
     "name": "stdout",
     "output_type": "stream",
     "text": [
      "16-11-29\n"
     ]
    }
   ],
   "source": [
    "#Question 10.\n",
    "\n",
    "from datetime import datetime, timedelta\n",
    "\n",
    "def get_previous_date(date, n):\n",
    "    format_str = '%y-%m-%d'\n",
    "\n",
    "    # Parse the date string into a datetime object\n",
    "    current_date = datetime.strptime(date, format_str)\n",
    "\n",
    "    # Calculate the previous date by subtracting n days\n",
    "    previous_date = current_date - timedelta(days=n)\n",
    "\n",
    "    # Convert the datetime object back to a string\n",
    "    previous_date_str = previous_date.strftime(format_str)\n",
    "\n",
    "    return previous_date_str\n",
    "\n",
    "\n",
    "date = '16-12-10'\n",
    "n = 11\n",
    "\n",
    "result = get_previous_date(date, n)\n",
    "print(result)\n"
   ]
  },
  {
   "cell_type": "code",
   "execution_count": null,
   "id": "1443768c",
   "metadata": {},
   "outputs": [],
   "source": []
  }
 ],
 "metadata": {
  "kernelspec": {
   "display_name": "Python 3",
   "language": "python",
   "name": "python3"
  },
  "language_info": {
   "codemirror_mode": {
    "name": "ipython",
    "version": 3
   },
   "file_extension": ".py",
   "mimetype": "text/x-python",
   "name": "python",
   "nbconvert_exporter": "python",
   "pygments_lexer": "ipython3",
   "version": "3.8.8"
  }
 },
 "nbformat": 4,
 "nbformat_minor": 5
}
